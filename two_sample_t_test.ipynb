{
 "cells": [
  {
   "cell_type": "markdown",
   "id": "8c7b4e62",
   "metadata": {},
   "source": [
    "+ ##  performing Two sample t-test (unpaired or independent t-test)."
   ]
  },
  {
   "cell_type": "code",
   "execution_count": 3,
   "id": "26966b87",
   "metadata": {},
   "outputs": [],
   "source": [
    "import pandas as pd\n",
    "import researchpy as rp\n",
    "import scipy.stats as st\n",
    "from bioinfokit.analys import stat\n",
    "import seaborn as sns\n",
    "import matplotlib.pyplot as plt\n",
    "import numpy as np"
   ]
  },
  {
   "cell_type": "code",
   "execution_count": 4,
   "id": "4c9eae33",
   "metadata": {},
   "outputs": [
    {
     "data": {
      "text/html": [
       "<div>\n",
       "<style scoped>\n",
       "    .dataframe tbody tr th:only-of-type {\n",
       "        vertical-align: middle;\n",
       "    }\n",
       "\n",
       "    .dataframe tbody tr th {\n",
       "        vertical-align: top;\n",
       "    }\n",
       "\n",
       "    .dataframe thead th {\n",
       "        text-align: right;\n",
       "    }\n",
       "</style>\n",
       "<table border=\"1\" class=\"dataframe\">\n",
       "  <thead>\n",
       "    <tr style=\"text-align: right;\">\n",
       "      <th></th>\n",
       "      <th>Year</th>\n",
       "      <th>Sex</th>\n",
       "      <th>Age group (years) at date of injury</th>\n",
       "      <th>Geographic region where injury occurred</th>\n",
       "      <th>Employment status</th>\n",
       "      <th>Occupation</th>\n",
       "      <th>Injury/illness/disease group</th>\n",
       "      <th>Type of injury/illness/disease</th>\n",
       "      <th>Industry</th>\n",
       "      <th>Industry subgroup</th>\n",
       "      <th>Value</th>\n",
       "      <th>Measure</th>\n",
       "      <th>Status</th>\n",
       "    </tr>\n",
       "  </thead>\n",
       "  <tbody>\n",
       "    <tr>\n",
       "      <th>0</th>\n",
       "      <td>2002</td>\n",
       "      <td>Total</td>\n",
       "      <td>Total</td>\n",
       "      <td>Total</td>\n",
       "      <td>Total</td>\n",
       "      <td>Total</td>\n",
       "      <td>Total</td>\n",
       "      <td>Total</td>\n",
       "      <td>Total</td>\n",
       "      <td>Total</td>\n",
       "      <td>258.4</td>\n",
       "      <td>Number of claims in thousands</td>\n",
       "      <td>Final</td>\n",
       "    </tr>\n",
       "    <tr>\n",
       "      <th>1</th>\n",
       "      <td>2003</td>\n",
       "      <td>Total</td>\n",
       "      <td>Total</td>\n",
       "      <td>Total</td>\n",
       "      <td>Total</td>\n",
       "      <td>Total</td>\n",
       "      <td>Total</td>\n",
       "      <td>Total</td>\n",
       "      <td>Total</td>\n",
       "      <td>Total</td>\n",
       "      <td>258.1</td>\n",
       "      <td>Number of claims in thousands</td>\n",
       "      <td>Final</td>\n",
       "    </tr>\n",
       "    <tr>\n",
       "      <th>2</th>\n",
       "      <td>2004</td>\n",
       "      <td>Total</td>\n",
       "      <td>Total</td>\n",
       "      <td>Total</td>\n",
       "      <td>Total</td>\n",
       "      <td>Total</td>\n",
       "      <td>Total</td>\n",
       "      <td>Total</td>\n",
       "      <td>Total</td>\n",
       "      <td>Total</td>\n",
       "      <td>261.1</td>\n",
       "      <td>Number of claims in thousands</td>\n",
       "      <td>Final</td>\n",
       "    </tr>\n",
       "    <tr>\n",
       "      <th>3</th>\n",
       "      <td>2005</td>\n",
       "      <td>Total</td>\n",
       "      <td>Total</td>\n",
       "      <td>Total</td>\n",
       "      <td>Total</td>\n",
       "      <td>Total</td>\n",
       "      <td>Total</td>\n",
       "      <td>Total</td>\n",
       "      <td>Total</td>\n",
       "      <td>Total</td>\n",
       "      <td>262.0</td>\n",
       "      <td>Number of claims in thousands</td>\n",
       "      <td>Final</td>\n",
       "    </tr>\n",
       "  </tbody>\n",
       "</table>\n",
       "</div>"
      ],
      "text/plain": [
       "   Year    Sex Age group (years) at date of injury  \\\n",
       "0  2002  Total                               Total   \n",
       "1  2003  Total                               Total   \n",
       "2  2004  Total                               Total   \n",
       "3  2005  Total                               Total   \n",
       "\n",
       "  Geographic region where injury occurred Employment status Occupation  \\\n",
       "0                                   Total             Total      Total   \n",
       "1                                   Total             Total      Total   \n",
       "2                                   Total             Total      Total   \n",
       "3                                   Total             Total      Total   \n",
       "\n",
       "  Injury/illness/disease group Type of injury/illness/disease Industry  \\\n",
       "0                        Total                          Total    Total   \n",
       "1                        Total                          Total    Total   \n",
       "2                        Total                          Total    Total   \n",
       "3                        Total                          Total    Total   \n",
       "\n",
       "  Industry subgroup  Value                        Measure Status  \n",
       "0             Total  258.4  Number of claims in thousands  Final  \n",
       "1             Total  258.1  Number of claims in thousands  Final  \n",
       "2             Total  261.1  Number of claims in thousands  Final  \n",
       "3             Total  262.0  Number of claims in thousands  Final  "
      ]
     },
     "execution_count": 4,
     "metadata": {},
     "output_type": "execute_result"
    }
   ],
   "source": [
    "df= pd.read_csv(r'C:\\Users\\mahmoud\\Desktop\\cdsp\\statstic.csv', encoding='cp1252')\n",
    "df.head(4)"
   ]
  },
  {
   "cell_type": "code",
   "execution_count": 5,
   "id": "476aa9b0",
   "metadata": {},
   "outputs": [
    {
     "name": "stdout",
     "output_type": "stream",
     "text": [
      "<class 'pandas.core.frame.DataFrame'>\n",
      "RangeIndex: 2945 entries, 0 to 2944\n",
      "Data columns (total 13 columns):\n",
      " #   Column                                   Non-Null Count  Dtype  \n",
      "---  ------                                   --------------  -----  \n",
      " 0   Year                                     2945 non-null   int64  \n",
      " 1   Sex                                      2945 non-null   object \n",
      " 2   Age group (years) at date of injury      2945 non-null   object \n",
      " 3   Geographic region where injury occurred  2945 non-null   object \n",
      " 4   Employment status                        2945 non-null   object \n",
      " 5   Occupation                               2945 non-null   object \n",
      " 6   Injury/illness/disease group             2945 non-null   object \n",
      " 7   Type of injury/illness/disease           2945 non-null   object \n",
      " 8   Industry                                 2945 non-null   object \n",
      " 9   Industry subgroup                        2945 non-null   object \n",
      " 10  Value                                    2945 non-null   float64\n",
      " 11  Measure                                  2945 non-null   object \n",
      " 12  Status                                   2945 non-null   object \n",
      "dtypes: float64(1), int64(1), object(11)\n",
      "memory usage: 299.2+ KB\n"
     ]
    }
   ],
   "source": [
    "df.info()"
   ]
  },
  {
   "cell_type": "code",
   "execution_count": 6,
   "id": "61dee5a9",
   "metadata": {},
   "outputs": [
    {
     "data": {
      "text/html": [
       "<div>\n",
       "<style scoped>\n",
       "    .dataframe tbody tr th:only-of-type {\n",
       "        vertical-align: middle;\n",
       "    }\n",
       "\n",
       "    .dataframe tbody tr th {\n",
       "        vertical-align: top;\n",
       "    }\n",
       "\n",
       "    .dataframe thead th {\n",
       "        text-align: right;\n",
       "    }\n",
       "</style>\n",
       "<table border=\"1\" class=\"dataframe\">\n",
       "  <thead>\n",
       "    <tr style=\"text-align: right;\">\n",
       "      <th></th>\n",
       "      <th>Year</th>\n",
       "      <th>Value</th>\n",
       "    </tr>\n",
       "  </thead>\n",
       "  <tbody>\n",
       "    <tr>\n",
       "      <th>count</th>\n",
       "      <td>2945.000000</td>\n",
       "      <td>2945.000000</td>\n",
       "    </tr>\n",
       "    <tr>\n",
       "      <th>mean</th>\n",
       "      <td>2010.772496</td>\n",
       "      <td>41.610696</td>\n",
       "    </tr>\n",
       "    <tr>\n",
       "      <th>std</th>\n",
       "      <td>4.757987</td>\n",
       "      <td>61.312452</td>\n",
       "    </tr>\n",
       "    <tr>\n",
       "      <th>min</th>\n",
       "      <td>2002.000000</td>\n",
       "      <td>0.000000</td>\n",
       "    </tr>\n",
       "    <tr>\n",
       "      <th>25%</th>\n",
       "      <td>2007.000000</td>\n",
       "      <td>3.200000</td>\n",
       "    </tr>\n",
       "    <tr>\n",
       "      <th>50%</th>\n",
       "      <td>2011.000000</td>\n",
       "      <td>13.000000</td>\n",
       "    </tr>\n",
       "    <tr>\n",
       "      <th>75%</th>\n",
       "      <td>2015.000000</td>\n",
       "      <td>58.000000</td>\n",
       "    </tr>\n",
       "    <tr>\n",
       "      <th>max</th>\n",
       "      <td>2018.000000</td>\n",
       "      <td>563.000000</td>\n",
       "    </tr>\n",
       "  </tbody>\n",
       "</table>\n",
       "</div>"
      ],
      "text/plain": [
       "              Year        Value\n",
       "count  2945.000000  2945.000000\n",
       "mean   2010.772496    41.610696\n",
       "std       4.757987    61.312452\n",
       "min    2002.000000     0.000000\n",
       "25%    2007.000000     3.200000\n",
       "50%    2011.000000    13.000000\n",
       "75%    2015.000000    58.000000\n",
       "max    2018.000000   563.000000"
      ]
     },
     "execution_count": 6,
     "metadata": {},
     "output_type": "execute_result"
    }
   ],
   "source": [
    "df.describe()"
   ]
  },
  {
   "cell_type": "markdown",
   "id": "668f7fa4",
   "metadata": {},
   "source": [
    "+ ### we will take (Value) as a dependent feature and (Measure) as independent feature."
   ]
  },
  {
   "cell_type": "code",
   "execution_count": 7,
   "id": "cf8393d5",
   "metadata": {},
   "outputs": [
    {
     "data": {
      "text/plain": [
       "Final          2745\n",
       "Provisional     200\n",
       "Name: Status, dtype: int64"
      ]
     },
     "execution_count": 7,
     "metadata": {},
     "output_type": "execute_result"
    }
   ],
   "source": [
    "df['Status'].value_counts()"
   ]
  },
  {
   "cell_type": "markdown",
   "id": "6c289b30",
   "metadata": {},
   "source": [
    "+ ### since our groups not equel we will take an equel sample from each other. "
   ]
  },
  {
   "cell_type": "code",
   "execution_count": 8,
   "id": "d156790f",
   "metadata": {},
   "outputs": [],
   "source": [
    "df['Status']= df['Status'].replace({'Final', 'Provisional'},{'A','B'})"
   ]
  },
  {
   "cell_type": "code",
   "execution_count": 9,
   "id": "573e6cde",
   "metadata": {},
   "outputs": [],
   "source": [
    "df= df.groupby('Status').apply(lambda x: x.sample(30))"
   ]
  },
  {
   "cell_type": "code",
   "execution_count": 10,
   "id": "be9ce3d0",
   "metadata": {},
   "outputs": [],
   "source": [
    "# another way to take an equel samples.\n",
    "\n",
    "# def new (x):\n",
    "#     for i in x:\n",
    "#         m= x.sample(30)\n",
    "#     return m\n",
    "\n",
    "# df3= df.groupby('Status').apply(new)"
   ]
  },
  {
   "cell_type": "markdown",
   "id": "97d1865d",
   "metadata": {},
   "source": [
    "+ ### take the  equel samples to dataframe, we gonna used to perform t-test with \"bioinfokit\" library."
   ]
  },
  {
   "cell_type": "code",
   "execution_count": 11,
   "id": "8c495e5a",
   "metadata": {},
   "outputs": [],
   "source": [
    "df= df.loc[:,[\"Status\",\"Value\"]]"
   ]
  },
  {
   "cell_type": "code",
   "execution_count": 12,
   "id": "c4df4eba",
   "metadata": {},
   "outputs": [],
   "source": [
    "a= df.loc[df['Status'] == 'A']['Value']\n",
    "b= df.loc[df['Status'] == 'B']['Value']"
   ]
  },
  {
   "cell_type": "code",
   "execution_count": 13,
   "id": "e17abfcf",
   "metadata": {},
   "outputs": [
    {
     "data": {
      "text/html": [
       "<div>\n",
       "<style scoped>\n",
       "    .dataframe tbody tr th:only-of-type {\n",
       "        vertical-align: middle;\n",
       "    }\n",
       "\n",
       "    .dataframe tbody tr th {\n",
       "        vertical-align: top;\n",
       "    }\n",
       "\n",
       "    .dataframe thead th {\n",
       "        text-align: right;\n",
       "    }\n",
       "</style>\n",
       "<table border=\"1\" class=\"dataframe\">\n",
       "  <thead>\n",
       "    <tr style=\"text-align: right;\">\n",
       "      <th></th>\n",
       "      <th></th>\n",
       "      <th>Status</th>\n",
       "      <th>Value</th>\n",
       "    </tr>\n",
       "    <tr>\n",
       "      <th>Status</th>\n",
       "      <th></th>\n",
       "      <th></th>\n",
       "      <th></th>\n",
       "    </tr>\n",
       "  </thead>\n",
       "  <tbody>\n",
       "    <tr>\n",
       "      <th rowspan=\"2\" valign=\"top\">B</th>\n",
       "      <th>467</th>\n",
       "      <td>B</td>\n",
       "      <td>13.3</td>\n",
       "    </tr>\n",
       "    <tr>\n",
       "      <th>2695</th>\n",
       "      <td>B</td>\n",
       "      <td>118.0</td>\n",
       "    </tr>\n",
       "    <tr>\n",
       "      <th>A</th>\n",
       "      <th>322</th>\n",
       "      <td>A</td>\n",
       "      <td>18.3</td>\n",
       "    </tr>\n",
       "    <tr>\n",
       "      <th rowspan=\"6\" valign=\"top\">B</th>\n",
       "      <th>1259</th>\n",
       "      <td>B</td>\n",
       "      <td>19.0</td>\n",
       "    </tr>\n",
       "    <tr>\n",
       "      <th>587</th>\n",
       "      <td>B</td>\n",
       "      <td>30.2</td>\n",
       "    </tr>\n",
       "    <tr>\n",
       "      <th>2785</th>\n",
       "      <td>B</td>\n",
       "      <td>176.0</td>\n",
       "    </tr>\n",
       "    <tr>\n",
       "      <th>1756</th>\n",
       "      <td>B</td>\n",
       "      <td>18.0</td>\n",
       "    </tr>\n",
       "    <tr>\n",
       "      <th>1257</th>\n",
       "      <td>B</td>\n",
       "      <td>19.0</td>\n",
       "    </tr>\n",
       "    <tr>\n",
       "      <th>1584</th>\n",
       "      <td>B</td>\n",
       "      <td>1.0</td>\n",
       "    </tr>\n",
       "    <tr>\n",
       "      <th>A</th>\n",
       "      <th>526</th>\n",
       "      <td>A</td>\n",
       "      <td>7.7</td>\n",
       "    </tr>\n",
       "  </tbody>\n",
       "</table>\n",
       "</div>"
      ],
      "text/plain": [
       "            Status  Value\n",
       "Status                   \n",
       "B      467       B   13.3\n",
       "       2695      B  118.0\n",
       "A      322       A   18.3\n",
       "B      1259      B   19.0\n",
       "       587       B   30.2\n",
       "       2785      B  176.0\n",
       "       1756      B   18.0\n",
       "       1257      B   19.0\n",
       "       1584      B    1.0\n",
       "A      526       A    7.7"
      ]
     },
     "execution_count": 13,
     "metadata": {},
     "output_type": "execute_result"
    }
   ],
   "source": [
    "df.sample(frac=1, random_state=1).head(10)"
   ]
  },
  {
   "cell_type": "markdown",
   "id": "dde29392",
   "metadata": {},
   "source": [
    "+ ### summary stats for poth samples."
   ]
  },
  {
   "cell_type": "code",
   "execution_count": 14,
   "id": "c3dfb528",
   "metadata": {},
   "outputs": [
    {
     "name": "stdout",
     "output_type": "stream",
     "text": [
      "\n",
      "\n"
     ]
    },
    {
     "data": {
      "text/html": [
       "<div>\n",
       "<style scoped>\n",
       "    .dataframe tbody tr th:only-of-type {\n",
       "        vertical-align: middle;\n",
       "    }\n",
       "\n",
       "    .dataframe tbody tr th {\n",
       "        vertical-align: top;\n",
       "    }\n",
       "\n",
       "    .dataframe thead th {\n",
       "        text-align: right;\n",
       "    }\n",
       "</style>\n",
       "<table border=\"1\" class=\"dataframe\">\n",
       "  <thead>\n",
       "    <tr style=\"text-align: right;\">\n",
       "      <th></th>\n",
       "      <th>Variable</th>\n",
       "      <th>N</th>\n",
       "      <th>Mean</th>\n",
       "      <th>SD</th>\n",
       "      <th>SE</th>\n",
       "      <th>95% Conf.</th>\n",
       "      <th>Interval</th>\n",
       "    </tr>\n",
       "  </thead>\n",
       "  <tbody>\n",
       "    <tr>\n",
       "      <th>0</th>\n",
       "      <td>Value</td>\n",
       "      <td>30.0</td>\n",
       "      <td>51.0133</td>\n",
       "      <td>65.2311</td>\n",
       "      <td>11.9095</td>\n",
       "      <td>26.6556</td>\n",
       "      <td>75.371</td>\n",
       "    </tr>\n",
       "  </tbody>\n",
       "</table>\n",
       "</div>"
      ],
      "text/plain": [
       "  Variable     N     Mean       SD       SE  95% Conf.  Interval\n",
       "0    Value  30.0  51.0133  65.2311  11.9095    26.6556    75.371"
      ]
     },
     "execution_count": 14,
     "metadata": {},
     "output_type": "execute_result"
    }
   ],
   "source": [
    "rp.summary_cont(a)"
   ]
  },
  {
   "cell_type": "code",
   "execution_count": 15,
   "id": "7ec8a145",
   "metadata": {},
   "outputs": [
    {
     "name": "stdout",
     "output_type": "stream",
     "text": [
      "\n",
      "\n"
     ]
    },
    {
     "data": {
      "text/html": [
       "<div>\n",
       "<style scoped>\n",
       "    .dataframe tbody tr th:only-of-type {\n",
       "        vertical-align: middle;\n",
       "    }\n",
       "\n",
       "    .dataframe tbody tr th {\n",
       "        vertical-align: top;\n",
       "    }\n",
       "\n",
       "    .dataframe thead th {\n",
       "        text-align: right;\n",
       "    }\n",
       "</style>\n",
       "<table border=\"1\" class=\"dataframe\">\n",
       "  <thead>\n",
       "    <tr style=\"text-align: right;\">\n",
       "      <th></th>\n",
       "      <th>Variable</th>\n",
       "      <th>N</th>\n",
       "      <th>Mean</th>\n",
       "      <th>SD</th>\n",
       "      <th>SE</th>\n",
       "      <th>95% Conf.</th>\n",
       "      <th>Interval</th>\n",
       "    </tr>\n",
       "  </thead>\n",
       "  <tbody>\n",
       "    <tr>\n",
       "      <th>0</th>\n",
       "      <td>Value</td>\n",
       "      <td>30.0</td>\n",
       "      <td>41.8367</td>\n",
       "      <td>55.2787</td>\n",
       "      <td>10.0925</td>\n",
       "      <td>21.1953</td>\n",
       "      <td>62.4781</td>\n",
       "    </tr>\n",
       "  </tbody>\n",
       "</table>\n",
       "</div>"
      ],
      "text/plain": [
       "  Variable     N     Mean       SD       SE  95% Conf.  Interval\n",
       "0    Value  30.0  41.8367  55.2787  10.0925    21.1953   62.4781"
      ]
     },
     "execution_count": 15,
     "metadata": {},
     "output_type": "execute_result"
    }
   ],
   "source": [
    "rp.summary_cont(b)"
   ]
  },
  {
   "cell_type": "markdown",
   "id": "a6100c53",
   "metadata": {},
   "source": [
    "+ ### using scipy to perform unpaired t-test."
   ]
  },
  {
   "cell_type": "code",
   "execution_count": 16,
   "id": "23514136",
   "metadata": {
    "scrolled": true
   },
   "outputs": [
    {
     "name": "stdout",
     "output_type": "stream",
     "text": [
      "stats = 0.588  &  p =  0.5589187006449235 \n",
      "\n",
      "there is no significance difference between the two sample \n",
      "\n"
     ]
    }
   ],
   "source": [
    "stat, p = st.ttest_ind(a, b ,equal_var=True)\n",
    "\n",
    "print('stats = {0:.3f}'.format(stat),\" & \", 'p = ', p, \"\\n\")\n",
    "\n",
    "if p > 0.05:\n",
    "    \n",
    "    print(\"there is no significance difference between the two sample\", \"\\n\")\n",
    "else:\n",
    "    print(\"there is a significance difference between the two sample\")"
   ]
  },
  {
   "cell_type": "markdown",
   "id": "48b076a3",
   "metadata": {},
   "source": [
    "+ ### using bioinfokit to perform unpaired t-test."
   ]
  },
  {
   "cell_type": "code",
   "execution_count": 17,
   "id": "284fc2cd",
   "metadata": {},
   "outputs": [
    {
     "name": "stdout",
     "output_type": "stream",
     "text": [
      "\n",
      "Two sample t-test with equal variance\n",
      "\n",
      "------------------  ----------\n",
      "Mean diff             9.17667\n",
      "t                     0.587844\n",
      "Std Error            15.6107\n",
      "df                   58\n",
      "P-value (one-tail)    0.279459\n",
      "P-value (two-tail)    0.558919\n",
      "Lower 95.0%         -22.0716\n",
      "Upper 95.0%          40.4249\n",
      "------------------  ----------\n",
      "\n",
      "Parameter estimates\n",
      "\n",
      "Level      Number     Mean    Std Dev    Std Error    Lower 95.0%    Upper 95.0%\n",
      "-------  --------  -------  ---------  -----------  -------------  -------------\n",
      "A              30  51.0133    65.2311      11.9095        26.6556        75.371\n",
      "B              30  41.8367    55.2787      10.0925        21.1953        62.4781\n",
      "\n"
     ]
    }
   ],
   "source": [
    "from bioinfokit.analys import stat \n",
    "res= stat()\n",
    "\n",
    "res.ttest(df=df, xfac= 'Status', res='Value' ,test_type=2)\n",
    "print(res.summary)"
   ]
  },
  {
   "cell_type": "markdown",
   "id": "7ab06ba7",
   "metadata": {},
   "source": [
    "+ ### using statsmodels to perform unpaired t-test."
   ]
  },
  {
   "cell_type": "code",
   "execution_count": 18,
   "id": "40133179",
   "metadata": {},
   "outputs": [
    {
     "name": "stdout",
     "output_type": "stream",
     "text": [
      "stats = 0.588  &  p =  0.5589187006449235 \n",
      "\n",
      "there is no significance difference between the two sample \n",
      "\n"
     ]
    }
   ],
   "source": [
    "from statsmodels.stats.weightstats import ttest_ind\n",
    "\n",
    "test = ttest_ind(a, b)\n",
    "\n",
    "print('stats = {0:.3f}'.format(test[0]),\" & \", 'p = ' , test[1], \"\\n\")\n",
    "\n",
    "if test[1] > 0.05:\n",
    "    \n",
    "    print(\"there is no significance difference between the two sample\", \"\\n\")\n",
    "else:\n",
    "    print(\"there is a significance difference between the two sample\")"
   ]
  },
  {
   "cell_type": "markdown",
   "id": "093c396b",
   "metadata": {},
   "source": [
    "## check for normality assumption.\n",
    "+ shapiro test for normality."
   ]
  },
  {
   "cell_type": "code",
   "execution_count": 19,
   "id": "171e4eca",
   "metadata": {},
   "outputs": [
    {
     "name": "stdout",
     "output_type": "stream",
     "text": [
      "stats = 0.764  &  p =  1.5741054085083306e-05 \n",
      "\n",
      "Probably NOT Gaussian \n",
      "\n",
      "  ****************************** \n",
      "\n",
      "stats = 0.724  &  p =  3.54489520759671e-06 \n",
      "\n",
      "Probably NOT Gaussian\n"
     ]
    }
   ],
   "source": [
    "stat, p = st.shapiro(a)\n",
    "print('stats = {0:.3f}'.format(stat),\" & \", 'p = ', p, \"\\n\")\n",
    "\n",
    "if p > 0.05:\n",
    "    print(\"Probably Gaussian\", \"\\n\")\n",
    "else:\n",
    "    print(\"Probably NOT Gaussian\", \"\\n\")\n",
    "    print (\" \", '*'*30, \"\\n\")\n",
    "\n",
    "stat, p = st.shapiro(b)\n",
    "print('stats = {0:.3f}'.format(stat),\" & \", 'p = ', p, \"\\n\")\n",
    "\n",
    "if p > 0.05:\n",
    "    print(\"Probably Gaussian\")\n",
    "else:\n",
    "    print(\"Probably NOT Gaussian\")"
   ]
  },
  {
   "cell_type": "markdown",
   "id": "a02af187",
   "metadata": {},
   "source": [
    "### plot the distribution of the two samples.\n",
    "+ Levene's test of homogeneity of variances."
   ]
  },
  {
   "cell_type": "code",
   "execution_count": 20,
   "id": "7492d95b",
   "metadata": {},
   "outputs": [
    {
     "data": {
      "image/png": "[encoded data removed]",
      "text/plain": [
       "<Figure size 1080x360 with 4 Axes>"
      ]
     },
     "metadata": {
      "needs_background": "light"
     },
     "output_type": "display_data"
    }
   ],
   "source": [
    "fig, axes = plt.subplots(1, 4, figsize= (15,5))\n",
    "\n",
    "sns.histplot(a , kde= True ,ax= axes[0])\n",
    "sns.histplot(b , kde= True, ax= axes[1])\n",
    "sns.kdeplot(a ,ax= axes[2])\n",
    "sns.kdeplot(b ,ax= axes[3])\n",
    "\n",
    "plt.suptitle('Distribution of the two sampels' ,fontsize= 22)\n",
    "axes[0].set_title('Distribution of group a' ,fontsize= 14)\n",
    "axes[1].set_title('Distribution of group b' ,fontsize= 14)\n",
    "axes[2].set_title('KDE of group a' ,fontsize= 14)\n",
    "axes[3].set_title('KDE of group b' ,fontsize= 14)\n",
    "\n",
    "plt.tight_layout(pad = 4)"
   ]
  },
  {
   "cell_type": "markdown",
   "id": "e8a40ee5",
   "metadata": {},
   "source": [
    "+ ### probability plot correlation coefficient (PPCC)."
   ]
  },
  {
   "cell_type": "code",
   "execution_count": 21,
   "id": "c863d6b6",
   "metadata": {},
   "outputs": [
    {
     "data": {
      "image/png": "[encoded data removed]",
      "text/plain": [
       "<Figure size 1080x360 with 2 Axes>"
      ]
     },
     "metadata": {
      "needs_background": "light"
     },
     "output_type": "display_data"
    }
   ],
   "source": [
    "fig, axes = plt.subplots(1, 2, figsize= (15,5))\n",
    "\n",
    "norm, stat= st.probplot(a, plot=axes[0], rvalue=True)\n",
    "norm, stat= st.probplot(b, plot=axes[1], rvalue=True)\n",
    "\n",
    "plt.suptitle('Distribution of two sampels' ,fontsize= 22)\n",
    "axes[0].set_title('Distribution of group a' ,fontsize= 14)\n",
    "axes[1].set_title('Distribution of group b' ,fontsize= 14)\n",
    "\n",
    "plt.tight_layout(pad = 4);"
   ]
  },
  {
   "cell_type": "markdown",
   "id": "ea7c73fa",
   "metadata": {},
   "source": [
    "> as we can see the distribution of the two sampels are right skewed distribution and the p-value bigger than Significance Level in shapiro test even though that the calculated PPCC $ R^2 $ = 0.7661,0.7157 is ever so smaller than the table PPC $ R^2 $ = 0.9634 that indicated non-normality beacuse it works better on bigger samples.\n",
    "+ ### then the assumption of normality indicates that the two samples are not normally distributed,(Mann–Whitney U test)"
   ]
  },
  {
   "cell_type": "markdown",
   "id": "2705278d",
   "metadata": {},
   "source": [
    "+ ### HOMOGENEITY OF VARIANCE ASSUMPTION."
   ]
  },
  {
   "cell_type": "code",
   "execution_count": 22,
   "id": "df4dfefa",
   "metadata": {},
   "outputs": [
    {
     "name": "stdout",
     "output_type": "stream",
     "text": [
      "stats = 0.609  &  p =  0.43847763877886026 \n",
      "\n",
      "there is no significant difference in their varability \n",
      "\n"
     ]
    },
    {
     "data": {
      "image/png": "[encoded data removed]",
      "text/plain": [
       "<Figure size 720x432 with 1 Axes>"
      ]
     },
     "metadata": {
      "needs_background": "light"
     },
     "output_type": "display_data"
    }
   ],
   "source": [
    "stat, p= st.levene(a,b)\n",
    "\n",
    "print('stats = {0:.3f}'.format(stat), \" & \" , 'p = ', p, \"\\n\")\n",
    "\n",
    "if p > 0.05:\n",
    "    print(\"there is no significant difference in their varability\", \"\\n\")\n",
    "else:\n",
    "    print(\"there is a significant difference in their varability\", \"\\n\")\n",
    "    print (\" \", '*'*30, \"\\n\")\n",
    "\n",
    "fig= plt.figure(figsize=(10,6))\n",
    "\n",
    "plt.suptitle('box plot for two sample' ,fontsize= 22)\n",
    "\n",
    "data=[a,b]\n",
    "plt.boxplot(data, labels=[\"a\",\"b\"], showmeans=True)\n",
    "\n",
    "plt.show()"
   ]
  },
  {
   "cell_type": "markdown",
   "id": "7f04d9b2",
   "metadata": {},
   "source": [
    "> The Levene's test of homogeneity of variances is not significant which indicates that the two groups have non- statistically significant difference in their varability and The graphical testing of homogeneity of variances supports the statistical testing findings which is the groups have equal variance.\n"
   ]
  },
  {
   "cell_type": "markdown",
   "id": "90460fcc",
   "metadata": {},
   "source": [
    "+ ### since our samples are not normally distributed but have equel variance then we gonna apply (Mann–Whitney U test) for non normality."
   ]
  },
  {
   "cell_type": "markdown",
   "id": "f0e1c29c",
   "metadata": {},
   "source": [
    "+ ## Mann–Whitney U test for non normality."
   ]
  },
  {
   "cell_type": "code",
   "execution_count": 23,
   "id": "78cd08bb",
   "metadata": {},
   "outputs": [
    {
     "name": "stdout",
     "output_type": "stream",
     "text": [
      "stats = 454.500  &  p =  0.9528385027806506 \n",
      "\n",
      "there is no significance difference between the two sample \n",
      "\n"
     ]
    }
   ],
   "source": [
    "stat, p= st.mannwhitneyu(a, b, alternative='two-sided')\n",
    "\n",
    "print('stats = {0:.3f}'.format(stat),\" & \", 'p = ' , p, \"\\n\")\n",
    "\n",
    "if p > 0.05:\n",
    "    \n",
    "    print(\"there is no significance difference between the two sample\", \"\\n\")\n",
    "else:\n",
    "    print(\"there is a significance difference between the two sample\")"
   ]
  },
  {
   "cell_type": "markdown",
   "id": "f678ebb7",
   "metadata": {},
   "source": [
    "## Interpretation.\n",
    "> since our data is not normally distributed and stats_test = 454.500 , p_value > than the critical value then There is no statistically significant difference between the two samples."
   ]
  },
  {
   "cell_type": "markdown",
   "id": "4adc394c",
   "metadata": {},
   "source": [
    "+ ## Hint.\n",
    "> If the assumption(s) of normality or homogeneity of variances are not met then a route to consider is transforming the data. If this is the route that is decided on to try and correct not meeting one or both of the assumptions don't forget to back-transform the data for reporting and interpreting. Some data transformations effect normality and variances differently so different transformations should be tested. There are of course, common transformations that are used like Log Transformation, Square-root Transformation and Reciprocal Transformation."
   ]
  },
  {
   "cell_type": "code",
   "execution_count": null,
   "id": "2180a03e",
   "metadata": {},
   "outputs": [],
   "source": []
  }
 ],
 "metadata": {
  "kernelspec": {
   "display_name": "Python 3 (ipykernel)",
   "language": "python",
   "name": "python3"
  },
  "language_info": {
   "codemirror_mode": {
    "name": "ipython",
    "version": 3
   },
   "file_extension": ".py",
   "mimetype": "text/x-python",
   "name": "python",
   "nbconvert_exporter": "python",
   "pygments_lexer": "ipython3",
   "version": "3.10.5"
  }
 },
 "nbformat": 4,
 "nbformat_minor": 5
}
