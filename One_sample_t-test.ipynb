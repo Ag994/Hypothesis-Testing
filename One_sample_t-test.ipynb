{
 "cells": [
  {
   "cell_type": "code",
   "execution_count": 1,
   "id": "f4826d36",
   "metadata": {},
   "outputs": [],
   "source": [
    "import pandas as pd\n",
    "import researchpy as rp\n",
    "import scipy.stats as st\n",
    "from bioinfokit.analys import stat\n",
    "import seaborn as sns\n",
    "import matplotlib.pyplot as plt\n",
    "import numpy as np"
   ]
  },
  {
   "cell_type": "code",
   "execution_count": 2,
   "id": "66ce4327",
   "metadata": {},
   "outputs": [
    {
     "data": {
      "text/html": [
       "<div>\n",
       "<style scoped>\n",
       "    .dataframe tbody tr th:only-of-type {\n",
       "        vertical-align: middle;\n",
       "    }\n",
       "\n",
       "    .dataframe tbody tr th {\n",
       "        vertical-align: top;\n",
       "    }\n",
       "\n",
       "    .dataframe thead th {\n",
       "        text-align: right;\n",
       "    }\n",
       "</style>\n",
       "<table border=\"1\" class=\"dataframe\">\n",
       "  <thead>\n",
       "    <tr style=\"text-align: right;\">\n",
       "      <th></th>\n",
       "      <th>Series_reference</th>\n",
       "      <th>Period</th>\n",
       "      <th>Type</th>\n",
       "      <th>Data_value</th>\n",
       "      <th>Lower_CI</th>\n",
       "      <th>Upper_CI</th>\n",
       "      <th>Units</th>\n",
       "      <th>Indicator</th>\n",
       "      <th>Cause</th>\n",
       "      <th>Validation</th>\n",
       "      <th>Population</th>\n",
       "      <th>Age</th>\n",
       "      <th>Severity</th>\n",
       "    </tr>\n",
       "  </thead>\n",
       "  <tbody>\n",
       "    <tr>\n",
       "      <th>0</th>\n",
       "      <td>W_A11</td>\n",
       "      <td>2000-02</td>\n",
       "      <td>Moving average</td>\n",
       "      <td>59.666667</td>\n",
       "      <td>50.925823</td>\n",
       "      <td>68.407510</td>\n",
       "      <td>Injuries</td>\n",
       "      <td>Number</td>\n",
       "      <td>Assault</td>\n",
       "      <td>Validated</td>\n",
       "      <td>Whole pop</td>\n",
       "      <td>All ages</td>\n",
       "      <td>Fatal</td>\n",
       "    </tr>\n",
       "    <tr>\n",
       "      <th>1</th>\n",
       "      <td>W_A11</td>\n",
       "      <td>2001-03</td>\n",
       "      <td>Moving average</td>\n",
       "      <td>60.000000</td>\n",
       "      <td>51.234775</td>\n",
       "      <td>68.765225</td>\n",
       "      <td>Injuries</td>\n",
       "      <td>Number</td>\n",
       "      <td>Assault</td>\n",
       "      <td>Validated</td>\n",
       "      <td>Whole pop</td>\n",
       "      <td>All ages</td>\n",
       "      <td>Fatal</td>\n",
       "    </tr>\n",
       "    <tr>\n",
       "      <th>2</th>\n",
       "      <td>W_A11</td>\n",
       "      <td>2002-04</td>\n",
       "      <td>Moving average</td>\n",
       "      <td>59.000000</td>\n",
       "      <td>50.308125</td>\n",
       "      <td>67.691875</td>\n",
       "      <td>Injuries</td>\n",
       "      <td>Number</td>\n",
       "      <td>Assault</td>\n",
       "      <td>Validated</td>\n",
       "      <td>Whole pop</td>\n",
       "      <td>All ages</td>\n",
       "      <td>Fatal</td>\n",
       "    </tr>\n",
       "    <tr>\n",
       "      <th>3</th>\n",
       "      <td>W_A11</td>\n",
       "      <td>2003-05</td>\n",
       "      <td>Moving average</td>\n",
       "      <td>59.000000</td>\n",
       "      <td>50.308125</td>\n",
       "      <td>67.691875</td>\n",
       "      <td>Injuries</td>\n",
       "      <td>Number</td>\n",
       "      <td>Assault</td>\n",
       "      <td>Validated</td>\n",
       "      <td>Whole pop</td>\n",
       "      <td>All ages</td>\n",
       "      <td>Fatal</td>\n",
       "    </tr>\n",
       "    <tr>\n",
       "      <th>4</th>\n",
       "      <td>W_A11</td>\n",
       "      <td>2004-06</td>\n",
       "      <td>Moving average</td>\n",
       "      <td>61.333333</td>\n",
       "      <td>52.471252</td>\n",
       "      <td>70.195415</td>\n",
       "      <td>Injuries</td>\n",
       "      <td>Number</td>\n",
       "      <td>Assault</td>\n",
       "      <td>Validated</td>\n",
       "      <td>Whole pop</td>\n",
       "      <td>All ages</td>\n",
       "      <td>Fatal</td>\n",
       "    </tr>\n",
       "  </tbody>\n",
       "</table>\n",
       "</div>"
      ],
      "text/plain": [
       "  Series_reference   Period            Type  Data_value   Lower_CI   Upper_CI  \\\n",
       "0            W_A11  2000-02  Moving average   59.666667  50.925823  68.407510   \n",
       "1            W_A11  2001-03  Moving average   60.000000  51.234775  68.765225   \n",
       "2            W_A11  2002-04  Moving average   59.000000  50.308125  67.691875   \n",
       "3            W_A11  2003-05  Moving average   59.000000  50.308125  67.691875   \n",
       "4            W_A11  2004-06  Moving average   61.333333  52.471252  70.195415   \n",
       "\n",
       "      Units Indicator    Cause Validation Population       Age Severity  \n",
       "0  Injuries    Number  Assault  Validated  Whole pop  All ages    Fatal  \n",
       "1  Injuries    Number  Assault  Validated  Whole pop  All ages    Fatal  \n",
       "2  Injuries    Number  Assault  Validated  Whole pop  All ages    Fatal  \n",
       "3  Injuries    Number  Assault  Validated  Whole pop  All ages    Fatal  \n",
       "4  Injuries    Number  Assault  Validated  Whole pop  All ages    Fatal  "
      ]
     },
     "execution_count": 2,
     "metadata": {},
     "output_type": "execute_result"
    }
   ],
   "source": [
    "df= pd.read_csv(r'C:\\Users\\mahmoud\\Downloads\\serious-injury-outcome-indicators-2000-2020-CSV.csv')\n",
    "df.head()"
   ]
  },
  {
   "cell_type": "code",
   "execution_count": 3,
   "id": "eaf0fda6",
   "metadata": {},
   "outputs": [
    {
     "name": "stdout",
     "output_type": "stream",
     "text": [
      "<class 'pandas.core.frame.DataFrame'>\n",
      "RangeIndex: 2748 entries, 0 to 2747\n",
      "Data columns (total 13 columns):\n",
      " #   Column            Non-Null Count  Dtype  \n",
      "---  ------            --------------  -----  \n",
      " 0   Series_reference  2748 non-null   object \n",
      " 1   Period            2748 non-null   object \n",
      " 2   Type              2748 non-null   object \n",
      " 3   Data_value        2748 non-null   float64\n",
      " 4   Lower_CI          2748 non-null   float64\n",
      " 5   Upper_CI          2748 non-null   float64\n",
      " 6   Units             2748 non-null   object \n",
      " 7   Indicator         2748 non-null   object \n",
      " 8   Cause             2748 non-null   object \n",
      " 9   Validation        2748 non-null   object \n",
      " 10  Population        2748 non-null   object \n",
      " 11  Age               2748 non-null   object \n",
      " 12  Severity          2748 non-null   object \n",
      "dtypes: float64(3), object(10)\n",
      "memory usage: 279.2+ KB\n"
     ]
    }
   ],
   "source": [
    "df.info()"
   ]
  },
  {
   "cell_type": "code",
   "execution_count": 4,
   "id": "e6315c28",
   "metadata": {},
   "outputs": [
    {
     "data": {
      "text/plain": [
       "Series_reference    0.0\n",
       "Period              0.0\n",
       "Type                0.0\n",
       "Data_value          0.0\n",
       "Lower_CI            0.0\n",
       "Upper_CI            0.0\n",
       "Units               0.0\n",
       "Indicator           0.0\n",
       "Cause               0.0\n",
       "Validation          0.0\n",
       "Population          0.0\n",
       "Age                 0.0\n",
       "Severity            0.0\n",
       "dtype: float64"
      ]
     },
     "execution_count": 4,
     "metadata": {},
     "output_type": "execute_result"
    }
   ],
   "source": [
    "df.isnull().sum()/len(df)*100"
   ]
  },
  {
   "cell_type": "code",
   "execution_count": 6,
   "id": "ad99ce1d",
   "metadata": {},
   "outputs": [],
   "source": [
    "df_sample= df.sample(1000)\n",
    "x= df_sample['Data_value']"
   ]
  },
  {
   "cell_type": "code",
   "execution_count": 14,
   "id": "a4c3d7a3",
   "metadata": {},
   "outputs": [
    {
     "name": "stdout",
     "output_type": "stream",
     "text": [
      "\n",
      "\n"
     ]
    },
    {
     "data": {
      "text/html": [
       "<div>\n",
       "<style scoped>\n",
       "    .dataframe tbody tr th:only-of-type {\n",
       "        vertical-align: middle;\n",
       "    }\n",
       "\n",
       "    .dataframe tbody tr th {\n",
       "        vertical-align: top;\n",
       "    }\n",
       "\n",
       "    .dataframe thead th {\n",
       "        text-align: right;\n",
       "    }\n",
       "</style>\n",
       "<table border=\"1\" class=\"dataframe\">\n",
       "  <thead>\n",
       "    <tr style=\"text-align: right;\">\n",
       "      <th></th>\n",
       "      <th>Variable</th>\n",
       "      <th>N</th>\n",
       "      <th>Mean</th>\n",
       "      <th>SD</th>\n",
       "      <th>SE</th>\n",
       "      <th>95% Conf.</th>\n",
       "      <th>Interval</th>\n",
       "    </tr>\n",
       "  </thead>\n",
       "  <tbody>\n",
       "    <tr>\n",
       "      <th>0</th>\n",
       "      <td>Data_value</td>\n",
       "      <td>2748.0</td>\n",
       "      <td>490.518</td>\n",
       "      <td>1407.6071</td>\n",
       "      <td>26.8518</td>\n",
       "      <td>437.8662</td>\n",
       "      <td>543.1697</td>\n",
       "    </tr>\n",
       "  </tbody>\n",
       "</table>\n",
       "</div>"
      ],
      "text/plain": [
       "     Variable       N     Mean         SD       SE  95% Conf.  Interval\n",
       "0  Data_value  2748.0  490.518  1407.6071  26.8518   437.8662  543.1697"
      ]
     },
     "execution_count": 14,
     "metadata": {},
     "output_type": "execute_result"
    }
   ],
   "source": [
    "rp.summary_cont(df['Data_value'])"
   ]
  },
  {
   "cell_type": "markdown",
   "id": "d2356f02",
   "metadata": {},
   "source": [
    "## One-sample t-test with scipy"
   ]
  },
  {
   "cell_type": "code",
   "execution_count": 20,
   "id": "0854653a",
   "metadata": {},
   "outputs": [
    {
     "name": "stdout",
     "output_type": "stream",
     "text": [
      "stats= -0.842 & p = 0.40019542475300673 \n",
      "\n",
      "there is not significance difference between the population mean and the sample mean\n"
     ]
    }
   ],
   "source": [
    "alpha= 0.05\n",
    "stat, p= st.ttest_1samp(x, popmean= 490)\n",
    "\n",
    "print('stats= {0:.3f}'.format(stat),\"&\" ,'p =', p, '\\n')\n",
    "\n",
    "if p > alpha:\n",
    "    print('there is not significance difference between the population mean and the sample mean')\n",
    "else:\n",
    "    print('there is significance difference between the population mean and the sample mean')"
   ]
  },
  {
   "cell_type": "markdown",
   "id": "c4b469a8",
   "metadata": {},
   "source": [
    "## One-sample t-test with bioinfokit"
   ]
  },
  {
   "cell_type": "code",
   "execution_count": 17,
   "id": "23535b08",
   "metadata": {},
   "outputs": [
    {
     "name": "stdout",
     "output_type": "stream",
     "text": [
      "\n",
      "One Sample t-test \n",
      "\n",
      "------------------  -----------\n",
      "Sample size         1000\n",
      "Mean                 454.505\n",
      "t                     -0.841632\n",
      "Df                   999\n",
      "P-value (one-tail)     0.200098\n",
      "P-value (two-tail)     0.400195\n",
      "Lower 95.0%          371.745\n",
      "Upper 95.0%          537.265\n",
      "------------------  -----------\n"
     ]
    }
   ],
   "source": [
    "from bioinfokit.analys import stat\n",
    "\n",
    "a = stat()\n",
    "a.ttest(df_sample, test_type=1, res='Data_value', mu= 490)\n",
    "print(a.summary)"
   ]
  },
  {
   "cell_type": "markdown",
   "id": "e89c85db",
   "metadata": {},
   "source": [
    "## check for normality assumption\n",
    "+ run shapiro test for normality."
   ]
  },
  {
   "cell_type": "code",
   "execution_count": 18,
   "id": "381f69f7",
   "metadata": {
    "scrolled": false
   },
   "outputs": [
    {
     "name": "stdout",
     "output_type": "stream",
     "text": [
      "stats= 0.346 & p = 0.0 \n",
      "\n",
      "Probably NOT Gaussian\n"
     ]
    },
    {
     "data": {
      "image/png": "[encoded data removed]",
      "text/plain": [
       "<Figure size 432x288 with 1 Axes>"
      ]
     },
     "metadata": {
      "needs_background": "light"
     },
     "output_type": "display_data"
    }
   ],
   "source": [
    "stat, p = st.shapiro(x)\n",
    "print('stats= {0:.3f}'.format(stat),\"&\" ,'p =', p,'\\n')\n",
    "\n",
    "if p > alpha:\n",
    "    print('Probably Gaussian')\n",
    "else:\n",
    "    print('Probably NOT Gaussian')\n",
    "    \n",
    "norm, stat= st.probplot(df_sample['Data_value'],plot=plt, rvalue=True)"
   ]
  },
  {
   "cell_type": "markdown",
   "id": "557ff6db",
   "metadata": {},
   "source": [
    "---\n",
    "+ since we had shapiro test results and (PPCC) plot that indicated non-normality <br /> then we will run alternative test call wilcoxon signed rank test."
   ]
  },
  {
   "cell_type": "markdown",
   "id": "86e3a313",
   "metadata": {},
   "source": [
    "## applying wilcoxon signed rank test."
   ]
  },
  {
   "cell_type": "code",
   "execution_count": 19,
   "id": "ab929e9a",
   "metadata": {},
   "outputs": [
    {
     "name": "stdout",
     "output_type": "stream",
     "text": [
      "stats= 104337.000 & p = 2.002796541700993e-57 \n",
      "\n",
      "there is significance difference between the population mean and the sample mean\n"
     ]
    }
   ],
   "source": [
    "stat, p= st.wilcoxon(x - 490)\n",
    "\n",
    "print('stats= {0:.3f}'.format(stat),\"&\" ,'p =', p,'\\n')\n",
    "\n",
    "if p > alpha:\n",
    "    print('there is not significance difference between the population median and the sample mean')\n",
    "else:\n",
    "    print('there is significance difference between the population median and the sample mean')"
   ]
  },
  {
   "cell_type": "markdown",
   "id": "b612bb35",
   "metadata": {},
   "source": [
    "## Interpretation.\n",
    "> since our data is not normally distributed and stats_test = 104337.000 , p_value = 2.002796541700993e-57 There is a statistically significant difference between the sample medain and population median."
   ]
  },
  {
   "cell_type": "code",
   "execution_count": null,
   "id": "69499b0e",
   "metadata": {},
   "outputs": [],
   "source": []
  }
 ],
 "metadata": {
  "kernelspec": {
   "display_name": "Python 3 (ipykernel)",
   "language": "python",
   "name": "python3"
  },
  "language_info": {
   "codemirror_mode": {
    "name": "ipython",
    "version": 3
   },
   "file_extension": ".py",
   "mimetype": "text/x-python",
   "name": "python",
   "nbconvert_exporter": "python",
   "pygments_lexer": "ipython3",
   "version": "3.10.5"
  }
 },
 "nbformat": 4,
 "nbformat_minor": 5
}
